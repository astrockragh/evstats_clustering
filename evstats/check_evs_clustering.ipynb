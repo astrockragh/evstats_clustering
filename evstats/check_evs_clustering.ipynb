{
 "cells": [
  {
   "cell_type": "code",
   "execution_count": 3,
   "metadata": {},
   "outputs": [],
   "source": [
    "import numpy as np\n",
    "from scipy import integrate\n",
    "from scipy.stats import norm\n",
    "from scipy.special import gammaincinv\n",
    "import hmf, astropy, sys, tqdm, time\n",
    "import pandas as pd\n",
    "from astropy.cosmology import Planck18_arXiv_v2\n",
    "import matplotlib.pyplot as plt\n",
    "\n",
    "little_h = 0.68\n",
    "baryon_frac = 0.188\n",
    "\n",
    "mmin = 3. # Minimum halo mass for HMF\n",
    "mmax = 15 # Maximum halo mass for HMF\n",
    "\n",
    "maxMass = 12.5\n",
    "dM = 0.5\n",
    "dlog10m = 0.001 #numerical HMF resolution, should be <<mass resolution\n",
    "Ndm = int(0.5//dlog10m) #number of steps in a 0.5 dex mass interval\n",
    "Nm = 100 # set to 100\n",
    "mbins = np.arange(3., maxMass+dM/Nm-1e-10, dM/Nm)\n",
    "mbins=np.round(mbins, 3)\n",
    "\n",
    "# Method to take one trial of a gamma distribution with a given variance and mean\n",
    "def trial_minsig(sig_v, mean, Ntrials=10000, minsig = -7):\n",
    "    Ntrials = int(Ntrials)\n",
    "    var = sig_v**2*mean**2+mean #cv + poisson\n",
    "    k = mean**2/var\n",
    "    t = var/mean\n",
    "    y = np.linspace(1/Ntrials,1-1/Ntrials, Ntrials)\n",
    "    rand = t*gammaincinv(k, y, out = None)\n",
    "    return rand"
   ]
  },
  {
   "cell_type": "code",
   "execution_count": 4,
   "metadata": {},
   "outputs": [
    {
     "data": {
      "text/plain": [
       "[<matplotlib.lines.Line2D at 0x7fec6c27d9d0>]"
      ]
     },
     "execution_count": 4,
     "metadata": {},
     "output_type": "execute_result"
    },
    {
     "data": {
      "image/png": "[encoded data removed]",
      "text/plain": [
       "<Figure size 432x288 with 1 Axes>"
      ]
     },
     "metadata": {
      "needs_background": "light"
     },
     "output_type": "display_data"
    }
   ],
   "source": [
    "cvs = pd.read_csv('../calculate_sigma_cv/dfs/scaled_4.623_0.003.csv')\n",
    "\n",
    "plt.plot(cvs.values[1][4:])\n"
   ]
  },
  {
   "cell_type": "code",
   "execution_count": 5,
   "metadata": {},
   "outputs": [
    {
     "data": {
      "text/html": [
       "<div>\n",
       "<style scoped>\n",
       "    .dataframe tbody tr th:only-of-type {\n",
       "        vertical-align: middle;\n",
       "    }\n",
       "\n",
       "    .dataframe tbody tr th {\n",
       "        vertical-align: top;\n",
       "    }\n",
       "\n",
       "    .dataframe thead th {\n",
       "        text-align: right;\n",
       "    }\n",
       "</style>\n",
       "<table border=\"1\" class=\"dataframe\">\n",
       "  <thead>\n",
       "    <tr style=\"text-align: right;\">\n",
       "      <th></th>\n",
       "      <th>Unnamed: 0</th>\n",
       "      <th>z</th>\n",
       "      <th>dz</th>\n",
       "      <th>sigdm</th>\n",
       "      <th>3.0</th>\n",
       "      <th>3.005</th>\n",
       "      <th>3.01</th>\n",
       "      <th>3.015</th>\n",
       "      <th>3.02</th>\n",
       "      <th>3.025</th>\n",
       "      <th>...</th>\n",
       "      <th>12.455</th>\n",
       "      <th>12.46</th>\n",
       "      <th>12.465</th>\n",
       "      <th>12.47</th>\n",
       "      <th>12.475</th>\n",
       "      <th>12.48</th>\n",
       "      <th>12.485</th>\n",
       "      <th>12.49</th>\n",
       "      <th>12.495</th>\n",
       "      <th>12.5</th>\n",
       "    </tr>\n",
       "  </thead>\n",
       "  <tbody>\n",
       "    <tr>\n",
       "      <th>0</th>\n",
       "      <td>0</td>\n",
       "      <td>3.00185</td>\n",
       "      <td>0.0037</td>\n",
       "      <td>0.480105</td>\n",
       "      <td>1.721184</td>\n",
       "      <td>1.721184</td>\n",
       "      <td>1.721184</td>\n",
       "      <td>1.721184</td>\n",
       "      <td>1.721184</td>\n",
       "      <td>1.721184</td>\n",
       "      <td>...</td>\n",
       "      <td>9.215202</td>\n",
       "      <td>9.235401</td>\n",
       "      <td>9.255633</td>\n",
       "      <td>9.275899</td>\n",
       "      <td>9.296197</td>\n",
       "      <td>9.316529</td>\n",
       "      <td>9.336893</td>\n",
       "      <td>9.357291</td>\n",
       "      <td>9.377722</td>\n",
       "      <td>9.398187</td>\n",
       "    </tr>\n",
       "    <tr>\n",
       "      <th>1</th>\n",
       "      <td>1</td>\n",
       "      <td>3.43935</td>\n",
       "      <td>0.0043</td>\n",
       "      <td>0.427014</td>\n",
       "      <td>1.689825</td>\n",
       "      <td>1.689825</td>\n",
       "      <td>1.689825</td>\n",
       "      <td>1.689825</td>\n",
       "      <td>1.689825</td>\n",
       "      <td>1.689825</td>\n",
       "      <td>...</td>\n",
       "      <td>9.004573</td>\n",
       "      <td>9.024014</td>\n",
       "      <td>9.043487</td>\n",
       "      <td>9.062991</td>\n",
       "      <td>9.082527</td>\n",
       "      <td>9.102094</td>\n",
       "      <td>9.121692</td>\n",
       "      <td>9.141323</td>\n",
       "      <td>9.160985</td>\n",
       "      <td>9.180678</td>\n",
       "    </tr>\n",
       "    <tr>\n",
       "      <th>2</th>\n",
       "      <td>2</td>\n",
       "      <td>3.94970</td>\n",
       "      <td>0.0050</td>\n",
       "      <td>0.378324</td>\n",
       "      <td>1.652617</td>\n",
       "      <td>1.652617</td>\n",
       "      <td>1.652617</td>\n",
       "      <td>1.652617</td>\n",
       "      <td>1.652617</td>\n",
       "      <td>1.652617</td>\n",
       "      <td>...</td>\n",
       "      <td>8.764705</td>\n",
       "      <td>8.783340</td>\n",
       "      <td>8.802005</td>\n",
       "      <td>8.820700</td>\n",
       "      <td>8.839424</td>\n",
       "      <td>8.858179</td>\n",
       "      <td>8.876963</td>\n",
       "      <td>8.895777</td>\n",
       "      <td>8.914621</td>\n",
       "      <td>8.933495</td>\n",
       "    </tr>\n",
       "    <tr>\n",
       "      <th>3</th>\n",
       "      <td>3</td>\n",
       "      <td>4.55025</td>\n",
       "      <td>0.0059</td>\n",
       "      <td>0.333090</td>\n",
       "      <td>1.687455</td>\n",
       "      <td>1.687455</td>\n",
       "      <td>1.687455</td>\n",
       "      <td>1.687455</td>\n",
       "      <td>1.687455</td>\n",
       "      <td>1.687455</td>\n",
       "      <td>...</td>\n",
       "      <td>8.886133</td>\n",
       "      <td>8.904588</td>\n",
       "      <td>8.923071</td>\n",
       "      <td>8.941584</td>\n",
       "      <td>8.960126</td>\n",
       "      <td>8.978697</td>\n",
       "      <td>8.997297</td>\n",
       "      <td>9.015926</td>\n",
       "      <td>9.034584</td>\n",
       "      <td>9.053271</td>\n",
       "    </tr>\n",
       "    <tr>\n",
       "      <th>4</th>\n",
       "      <td>4</td>\n",
       "      <td>5.26435</td>\n",
       "      <td>0.0071</td>\n",
       "      <td>0.291072</td>\n",
       "      <td>1.796752</td>\n",
       "      <td>1.796752</td>\n",
       "      <td>1.796752</td>\n",
       "      <td>1.796752</td>\n",
       "      <td>1.796752</td>\n",
       "      <td>1.796752</td>\n",
       "      <td>...</td>\n",
       "      <td>9.372511</td>\n",
       "      <td>9.391360</td>\n",
       "      <td>9.410237</td>\n",
       "      <td>9.429144</td>\n",
       "      <td>9.448079</td>\n",
       "      <td>9.467043</td>\n",
       "      <td>9.486036</td>\n",
       "      <td>9.505059</td>\n",
       "      <td>9.524110</td>\n",
       "      <td>9.543190</td>\n",
       "    </tr>\n",
       "    <tr>\n",
       "      <th>5</th>\n",
       "      <td>5</td>\n",
       "      <td>6.12290</td>\n",
       "      <td>0.0086</td>\n",
       "      <td>0.252697</td>\n",
       "      <td>1.897390</td>\n",
       "      <td>1.897390</td>\n",
       "      <td>1.897390</td>\n",
       "      <td>1.897390</td>\n",
       "      <td>1.897390</td>\n",
       "      <td>1.897390</td>\n",
       "      <td>...</td>\n",
       "      <td>9.799052</td>\n",
       "      <td>9.818118</td>\n",
       "      <td>9.837213</td>\n",
       "      <td>9.856337</td>\n",
       "      <td>9.875489</td>\n",
       "      <td>9.894670</td>\n",
       "      <td>9.913879</td>\n",
       "      <td>9.933117</td>\n",
       "      <td>9.952384</td>\n",
       "      <td>9.971680</td>\n",
       "    </tr>\n",
       "    <tr>\n",
       "      <th>6</th>\n",
       "      <td>6</td>\n",
       "      <td>7.16825</td>\n",
       "      <td>0.0105</td>\n",
       "      <td>0.217712</td>\n",
       "      <td>2.050710</td>\n",
       "      <td>2.050710</td>\n",
       "      <td>2.050710</td>\n",
       "      <td>2.050710</td>\n",
       "      <td>2.050710</td>\n",
       "      <td>2.050710</td>\n",
       "      <td>...</td>\n",
       "      <td>10.419096</td>\n",
       "      <td>10.438531</td>\n",
       "      <td>10.457994</td>\n",
       "      <td>10.477485</td>\n",
       "      <td>10.497005</td>\n",
       "      <td>10.516554</td>\n",
       "      <td>10.536130</td>\n",
       "      <td>10.555735</td>\n",
       "      <td>10.575369</td>\n",
       "      <td>10.595030</td>\n",
       "    </tr>\n",
       "    <tr>\n",
       "      <th>7</th>\n",
       "      <td>7</td>\n",
       "      <td>8.45945</td>\n",
       "      <td>0.0131</td>\n",
       "      <td>0.185633</td>\n",
       "      <td>2.319003</td>\n",
       "      <td>2.319003</td>\n",
       "      <td>2.319003</td>\n",
       "      <td>2.319003</td>\n",
       "      <td>2.319003</td>\n",
       "      <td>2.319003</td>\n",
       "      <td>...</td>\n",
       "      <td>11.482572</td>\n",
       "      <td>11.502744</td>\n",
       "      <td>11.522945</td>\n",
       "      <td>11.543173</td>\n",
       "      <td>11.563429</td>\n",
       "      <td>11.583714</td>\n",
       "      <td>11.604026</td>\n",
       "      <td>11.624367</td>\n",
       "      <td>11.644736</td>\n",
       "      <td>11.665133</td>\n",
       "    </tr>\n",
       "    <tr>\n",
       "      <th>8</th>\n",
       "      <td>8</td>\n",
       "      <td>10.08010</td>\n",
       "      <td>0.0166</td>\n",
       "      <td>0.156561</td>\n",
       "      <td>2.585933</td>\n",
       "      <td>2.585933</td>\n",
       "      <td>2.585933</td>\n",
       "      <td>2.585933</td>\n",
       "      <td>2.585933</td>\n",
       "      <td>2.585933</td>\n",
       "      <td>...</td>\n",
       "      <td>12.437531</td>\n",
       "      <td>12.457912</td>\n",
       "      <td>12.478320</td>\n",
       "      <td>12.498755</td>\n",
       "      <td>12.519217</td>\n",
       "      <td>12.539705</td>\n",
       "      <td>12.560220</td>\n",
       "      <td>12.580762</td>\n",
       "      <td>12.601330</td>\n",
       "      <td>12.621926</td>\n",
       "    </tr>\n",
       "    <tr>\n",
       "      <th>9</th>\n",
       "      <td>9</td>\n",
       "      <td>12.15480</td>\n",
       "      <td>0.0214</td>\n",
       "      <td>0.130351</td>\n",
       "      <td>2.906031</td>\n",
       "      <td>2.906031</td>\n",
       "      <td>2.906031</td>\n",
       "      <td>2.906031</td>\n",
       "      <td>2.906031</td>\n",
       "      <td>2.906031</td>\n",
       "      <td>...</td>\n",
       "      <td>13.516006</td>\n",
       "      <td>13.536275</td>\n",
       "      <td>13.556568</td>\n",
       "      <td>13.576885</td>\n",
       "      <td>13.597227</td>\n",
       "      <td>13.617593</td>\n",
       "      <td>13.637983</td>\n",
       "      <td>13.658398</td>\n",
       "      <td>13.678838</td>\n",
       "      <td>13.699301</td>\n",
       "    </tr>\n",
       "    <tr>\n",
       "      <th>10</th>\n",
       "      <td>10</td>\n",
       "      <td>14.86890</td>\n",
       "      <td>0.0284</td>\n",
       "      <td>0.106778</td>\n",
       "      <td>3.399968</td>\n",
       "      <td>3.399968</td>\n",
       "      <td>3.399968</td>\n",
       "      <td>3.399968</td>\n",
       "      <td>3.399968</td>\n",
       "      <td>3.399968</td>\n",
       "      <td>...</td>\n",
       "      <td>15.182417</td>\n",
       "      <td>15.202481</td>\n",
       "      <td>15.222566</td>\n",
       "      <td>15.242671</td>\n",
       "      <td>15.262797</td>\n",
       "      <td>15.282943</td>\n",
       "      <td>15.303110</td>\n",
       "      <td>15.323298</td>\n",
       "      <td>15.343506</td>\n",
       "      <td>15.363735</td>\n",
       "    </tr>\n",
       "  </tbody>\n",
       "</table>\n",
       "<p>11 rows × 1905 columns</p>\n",
       "</div>"
      ],
      "text/plain": [
       "    Unnamed: 0         z      dz     sigdm       3.0     3.005      3.01  \\\n",
       "0            0   3.00185  0.0037  0.480105  1.721184  1.721184  1.721184   \n",
       "1            1   3.43935  0.0043  0.427014  1.689825  1.689825  1.689825   \n",
       "2            2   3.94970  0.0050  0.378324  1.652617  1.652617  1.652617   \n",
       "3            3   4.55025  0.0059  0.333090  1.687455  1.687455  1.687455   \n",
       "4            4   5.26435  0.0071  0.291072  1.796752  1.796752  1.796752   \n",
       "5            5   6.12290  0.0086  0.252697  1.897390  1.897390  1.897390   \n",
       "6            6   7.16825  0.0105  0.217712  2.050710  2.050710  2.050710   \n",
       "7            7   8.45945  0.0131  0.185633  2.319003  2.319003  2.319003   \n",
       "8            8  10.08010  0.0166  0.156561  2.585933  2.585933  2.585933   \n",
       "9            9  12.15480  0.0214  0.130351  2.906031  2.906031  2.906031   \n",
       "10          10  14.86890  0.0284  0.106778  3.399968  3.399968  3.399968   \n",
       "\n",
       "       3.015      3.02     3.025  ...     12.455      12.46     12.465  \\\n",
       "0   1.721184  1.721184  1.721184  ...   9.215202   9.235401   9.255633   \n",
       "1   1.689825  1.689825  1.689825  ...   9.004573   9.024014   9.043487   \n",
       "2   1.652617  1.652617  1.652617  ...   8.764705   8.783340   8.802005   \n",
       "3   1.687455  1.687455  1.687455  ...   8.886133   8.904588   8.923071   \n",
       "4   1.796752  1.796752  1.796752  ...   9.372511   9.391360   9.410237   \n",
       "5   1.897390  1.897390  1.897390  ...   9.799052   9.818118   9.837213   \n",
       "6   2.050710  2.050710  2.050710  ...  10.419096  10.438531  10.457994   \n",
       "7   2.319003  2.319003  2.319003  ...  11.482572  11.502744  11.522945   \n",
       "8   2.585933  2.585933  2.585933  ...  12.437531  12.457912  12.478320   \n",
       "9   2.906031  2.906031  2.906031  ...  13.516006  13.536275  13.556568   \n",
       "10  3.399968  3.399968  3.399968  ...  15.182417  15.202481  15.222566   \n",
       "\n",
       "        12.47     12.475      12.48     12.485      12.49     12.495  \\\n",
       "0    9.275899   9.296197   9.316529   9.336893   9.357291   9.377722   \n",
       "1    9.062991   9.082527   9.102094   9.121692   9.141323   9.160985   \n",
       "2    8.820700   8.839424   8.858179   8.876963   8.895777   8.914621   \n",
       "3    8.941584   8.960126   8.978697   8.997297   9.015926   9.034584   \n",
       "4    9.429144   9.448079   9.467043   9.486036   9.505059   9.524110   \n",
       "5    9.856337   9.875489   9.894670   9.913879   9.933117   9.952384   \n",
       "6   10.477485  10.497005  10.516554  10.536130  10.555735  10.575369   \n",
       "7   11.543173  11.563429  11.583714  11.604026  11.624367  11.644736   \n",
       "8   12.498755  12.519217  12.539705  12.560220  12.580762  12.601330   \n",
       "9   13.576885  13.597227  13.617593  13.637983  13.658398  13.678838   \n",
       "10  15.242671  15.262797  15.282943  15.303110  15.323298  15.343506   \n",
       "\n",
       "         12.5  \n",
       "0    9.398187  \n",
       "1    9.180678  \n",
       "2    8.933495  \n",
       "3    9.053271  \n",
       "4    9.543190  \n",
       "5    9.971680  \n",
       "6   10.595030  \n",
       "7   11.665133  \n",
       "8   12.621926  \n",
       "9   13.699301  \n",
       "10  15.363735  \n",
       "\n",
       "[11 rows x 1905 columns]"
      ]
     },
     "execution_count": 5,
     "metadata": {},
     "output_type": "execute_result"
    }
   ],
   "source": [
    "cvs"
   ]
  },
  {
   "cell_type": "code",
   "execution_count": 6,
   "metadata": {},
   "outputs": [],
   "source": [
    "def evs_delta_sig(cv_df_loc = '../calculate_sigma_cv/dfs/scaled_4.623_0.003.csv', mf = hmf.MassFunction(), vol = 1, z = 4, Ntrials = int(1e4)):\n",
    "    \"\"\"\n",
    "\n",
    "    Parameters\n",
    "    ----------\n",
    "\n",
    "    Returns\n",
    "    -------\n",
    "    phi:\n",
    "\n",
    "    \"\"\"\n",
    "    cv_df = pd.read_csv(cv_df_loc)\n",
    "    \n",
    "    mf.update(z = z, Mmin = mmin, Mmax = mmax, dlog10m = dlog10m)\n",
    "    dndm = mf.dndlog10m/little_h**4*vol\n",
    "    mass = mf.m*little_h\n",
    "    sbf = 0.02856609803835385 + 0.012162496006188494 * (z - 4) # could possibly include some uncertainty here\n",
    "    stellar_mass = mass * sbf * baryon_frac \n",
    "\n",
    "    N_trapz = []\n",
    "    for i in range(len(mass)-Ndm):\n",
    "        inte = np.trapz(dndm[i:i+Ndm], np.log10(mass[i:i+Ndm]) ) #integrate over bin\n",
    "        N_trapz.append(inte)\n",
    "        \n",
    "    N_trapz = np.array(N_trapz)   \n",
    "\n",
    "    ## correction for bin size, applying later\n",
    "    n_tot = integrate.trapz(dndm, np.log10(mass))\n",
    "    f = n_tot/np.sum(N_trapz)\n",
    "    print(np.sum(N_trapz)*f)\n",
    "    stellar_mass = stellar_mass[int(Ndm)//2:-int(Ndm)//2] #redefine to fit integration range\n",
    "    smfs = []\n",
    "    cv_df_z  = cv_df.iloc[ np.argmin(np.abs(cv_df['z']-z)) ]\n",
    "    cols = []\n",
    "    for m in mbins[:-1]:\n",
    "        cols.append(str(m) )\n",
    "    cv_df_z[cols] = np.maximum.accumulate(cv_df_z[cols])\n",
    "\n",
    "    for m in mbins[:-1]:\n",
    "        arg = np.argmin(np.abs(np.log10(stellar_mass)-m))\n",
    "        N = N_trapz[arg-1]\n",
    "        cv = cv_df_z[str(m)]\n",
    "        smfs.append(trial_minsig(float(cv), N, Ntrials = Ntrials, minsig = -10))\n",
    "    \n",
    "    smfs = np.vstack(smfs)*f\n",
    "    Ns = np.sum(smfs, axis = 0)\n",
    "    fs = smfs/Ns\n",
    "    Fs = np.cumsum(smfs, axis = 0)/Ns\n",
    "    phi_maxs = Ns*fs*pow(Fs, Ns-1)\n",
    "    return phi_maxs, smfs, mbins, N_trapz"
   ]
  },
  {
   "cell_type": "code",
   "execution_count": 7,
   "metadata": {},
   "outputs": [
    {
     "name": "stdout",
     "output_type": "stream",
     "text": [
      "8842196.556612428\n"
     ]
    },
    {
     "name": "stderr",
     "output_type": "stream",
     "text": [
      "<ipython-input-6-44722604c99a>:37: SettingWithCopyWarning: \n",
      "A value is trying to be set on a copy of a slice from a DataFrame\n",
      "\n",
      "See the caveats in the documentation: https://pandas.pydata.org/pandas-docs/stable/user_guide/indexing.html#returning-a-view-versus-a-copy\n",
      "  cv_df_z[cols] = np.maximum.accumulate(cv_df_z[cols])\n",
      "<ipython-input-6-44722604c99a>:37: SettingWithCopyWarning: \n",
      "A value is trying to be set on a copy of a slice from a DataFrame\n",
      "\n",
      "See the caveats in the documentation: https://pandas.pydata.org/pandas-docs/stable/user_guide/indexing.html#returning-a-view-versus-a-copy\n",
      "  cv_df_z[cols] = np.maximum.accumulate(cv_df_z[cols])\n"
     ]
    }
   ],
   "source": [
    "pm, smfs, mbins, N_trapz = evs_delta_sig(cv_df_loc = '../calculate_sigma_cv/dfs/scaled_4.623_0.003.csv')"
   ]
  },
  {
   "cell_type": "code",
   "execution_count": 9,
   "metadata": {},
   "outputs": [
    {
     "data": {
      "text/plain": [
       "(1e-10, 1)"
      ]
     },
     "execution_count": 9,
     "metadata": {},
     "output_type": "execute_result"
    },
    {
     "data": {
      "image/png": "[encoded data removed]",
      "text/plain": [
       "<Figure size 432x288 with 1 Axes>"
      ]
     },
     "metadata": {
      "needs_background": "light"
     },
     "output_type": "display_data"
    }
   ],
   "source": [
    "Ns = np.sum(smfs, axis = 0)\n",
    "plt.plot(mbins[:-1], (smfs/Ns)[:, 1::1000])\n",
    "plt.yscale('log')\n",
    "plt.ylim(1e-10, 1)"
   ]
  },
  {
   "cell_type": "code",
   "execution_count": 288,
   "metadata": {},
   "outputs": [],
   "source": [
    "smfs = smfs\n",
    "Ns = np.sum(smfs, axis = 0)\n",
    "fs = smfs/Ns\n",
    "Fs = np.cumsum(smfs, axis = 0)/Ns\n",
    "phi_maxs = Ns*fs*pow(Fs, Ns-1)"
   ]
  },
  {
   "cell_type": "code",
   "execution_count": 289,
   "metadata": {},
   "outputs": [
    {
     "data": {
      "text/plain": [
       "[<matplotlib.lines.Line2D at 0x7fa0407b7550>,\n",
       " <matplotlib.lines.Line2D at 0x7fa0407b71c0>,\n",
       " <matplotlib.lines.Line2D at 0x7fa0407b70a0>,\n",
       " <matplotlib.lines.Line2D at 0x7fa0a06f2820>,\n",
       " <matplotlib.lines.Line2D at 0x7fa045a33c40>,\n",
       " <matplotlib.lines.Line2D at 0x7fa045a33d00>,\n",
       " <matplotlib.lines.Line2D at 0x7fa0407a35b0>,\n",
       " <matplotlib.lines.Line2D at 0x7fa0407a34c0>,\n",
       " <matplotlib.lines.Line2D at 0x7fa0407a3190>,\n",
       " <matplotlib.lines.Line2D at 0x7fa0407a30d0>]"
      ]
     },
     "execution_count": 289,
     "metadata": {},
     "output_type": "execute_result"
    },
    {
     "data": {
      "image/png": "[encoded data removed]",
      "text/plain": [
       "<Figure size 432x288 with 1 Axes>"
      ]
     },
     "metadata": {
      "needs_background": "light"
     },
     "output_type": "display_data"
    }
   ],
   "source": [
    "Ns = np.sum(smfs, axis = 0)\n",
    "# plt.plot(mbins[:-1], Fs[:, 1::1000])\n",
    "plt.plot(mbins[:-1], pow(Fs, Ns-1)[:, 1::1000] )"
   ]
  },
  {
   "cell_type": "code",
   "execution_count": 290,
   "metadata": {},
   "outputs": [
    {
     "data": {
      "text/plain": [
       "[<matplotlib.lines.Line2D at 0x7fa5c5f20c40>]"
      ]
     },
     "execution_count": 290,
     "metadata": {},
     "output_type": "execute_result"
    },
    {
     "data": {
      "image/png": "[encoded data removed]",
      "text/plain": [
       "<Figure size 432x288 with 1 Axes>"
      ]
     },
     "metadata": {
      "needs_background": "light"
     },
     "output_type": "display_data"
    }
   ],
   "source": [
    "idx = 10\n",
    "plt.plot(mbins[:-1], Ns[idx]*pow(Fs[:, idx], Ns[idx]-1)*fs[:, idx])"
   ]
  },
  {
   "cell_type": "code",
   "execution_count": 294,
   "metadata": {},
   "outputs": [
    {
     "data": {
      "image/png": "[encoded data removed]",
      "text/plain": [
       "<Figure size 432x288 with 1 Axes>"
      ]
     },
     "metadata": {
      "needs_background": "light"
     },
     "output_type": "display_data"
    }
   ],
   "source": [
    "import scipy as sp\n",
    "mask = ~np.any(np.isnan(phi_maxs), axis = 0)\n",
    "phi_maxss = phi_maxs[:, mask]\n",
    "N_trials = int(1e4)\n",
    "N_OD = 10000\n",
    "x = np.linspace(1e-8, 1-1e-8, N_trials )\n",
    "for N_OD in [1, 10, 100, 1000, 10000]:\n",
    "    evs_u = N_OD*sp.stats.uniform.pdf(x)*pow(sp.stats.uniform.cdf(x), N_OD - 1.)\n",
    "    evs_u = evs_u[mask]\n",
    "\n",
    "    pdf_norm = np.sum(phi_maxss*evs_u, axis = 1)/np.sum(evs_u)\n",
    "\n",
    "    plt.plot(mbins[:-1], pdf_norm )\n",
    "# plt.xlim(7,10.5)"
   ]
  },
  {
   "cell_type": "code",
   "execution_count": 295,
   "metadata": {},
   "outputs": [
    {
     "data": {
      "text/plain": [
       "6.78"
      ]
     },
     "execution_count": 295,
     "metadata": {},
     "output_type": "execute_result"
    }
   ],
   "source": [
    "N_OD = 1\n",
    "evs_u = N_OD*sp.stats.uniform.pdf(x)*pow(sp.stats.uniform.cdf(x), N_OD - 1.)\n",
    "evs_u = evs_u[mask]\n",
    "pdf_norm = np.sum(phi_maxss*evs_u, axis = 1)/np.sum(evs_u)\n",
    "cdf = np.cumsum(pdf_norm)/np.sum(pdf_norm)\n",
    "mbins[np.argmin(np.abs(cdf-0.5))]"
   ]
  },
  {
   "cell_type": "code",
   "execution_count": 296,
   "metadata": {},
   "outputs": [
    {
     "data": {
      "text/plain": [
       "(10.0, 12.5)"
      ]
     },
     "execution_count": 296,
     "metadata": {},
     "output_type": "execute_result"
    },
    {
     "data": {
      "image/png": "[encoded data removed]",
      "text/plain": [
       "<Figure size 432x288 with 1 Axes>"
      ]
     },
     "metadata": {
      "needs_background": "light"
     },
     "output_type": "display_data"
    }
   ],
   "source": [
    "import scipy as sp\n",
    "mask = ~np.any(np.isnan(phi_maxs), axis = 0)\n",
    "phi_maxss = phi_maxs[:, mask]\n",
    "N_trials = int(1e4)\n",
    "N_OD = 10000\n",
    "x = np.linspace(1e-8, 1-1e-8, N_trials )\n",
    "for N_OD in [10, 100, 1000, 10000, 100000]:\n",
    "    evs_u = N_OD*sp.stats.uniform.pdf(x)*pow(sp.stats.uniform.cdf(x), N_OD - 1.)\n",
    "    evs_u = evs_u[mask]\n",
    "\n",
    "    pdf_norm = np.sum(phi_maxss*evs_u, axis = 1)/np.sum(phi_maxss*evs_u)\n",
    "\n",
    "    plt.plot(mbins[:-1], pdf_norm )\n",
    "plt.xlim(10,12.5)"
   ]
  },
  {
   "cell_type": "code",
   "execution_count": 297,
   "metadata": {},
   "outputs": [
    {
     "data": {
      "text/plain": [
       "[<matplotlib.lines.Line2D at 0x7f9f88d576a0>]"
      ]
     },
     "execution_count": 297,
     "metadata": {},
     "output_type": "execute_result"
    },
    {
     "data": {
      "image/png": "[encoded data removed]",
      "text/plain": [
       "<Figure size 432x288 with 1 Axes>"
      ]
     },
     "metadata": {
      "needs_background": "light"
     },
     "output_type": "display_data"
    }
   ],
   "source": [
    "import scipy as sp\n",
    "mask = ~np.any(np.isnan(phi_maxs), axis = 0)\n",
    "phi_maxss = phi_maxs[:, mask]\n",
    "\n",
    "N_OD = 1000\n",
    "x = np.linspace(sp.stats.norm.ppf(1e-8), sp.stats.norm.ppf(1-1e-8), int(N_trials) )\n",
    "evs_g = N_OD*sp.stats.norm.pdf(x)*pow(sp.stats.norm.cdf(x), N_OD - 1.)\n",
    "evs_g = evs_g[mask]\n",
    "\n",
    "plt.plot(x[mask], evs_g)\n"
   ]
  },
  {
   "cell_type": "code",
   "execution_count": 298,
   "metadata": {},
   "outputs": [
    {
     "data": {
      "text/plain": [
       "(0.9, 1.0)"
      ]
     },
     "execution_count": 298,
     "metadata": {},
     "output_type": "execute_result"
    },
    {
     "data": {
      "image/png": "[encoded data removed]",
      "text/plain": [
       "<Figure size 432x288 with 1 Axes>"
      ]
     },
     "metadata": {
      "needs_background": "light"
     },
     "output_type": "display_data"
    }
   ],
   "source": [
    "N_OD = 100\n",
    "x = np.linspace(1e-8, 1-1e-8, int(N_trials) )\n",
    "evs_u = N_OD*sp.stats.uniform.pdf(x)*pow(sp.stats.uniform.cdf(x), N_OD - 1.)\n",
    "evs_u = evs_u[mask]\n",
    "plt.plot(x[mask], evs_u)\n",
    "plt.xlim(0.9, 1.0)"
   ]
  },
  {
   "cell_type": "code",
   "execution_count": 301,
   "metadata": {},
   "outputs": [
    {
     "name": "stdout",
     "output_type": "stream",
     "text": [
      "8842196.556612428\n"
     ]
    }
   ],
   "source": [
    "def evs_hypersurface_pdf(mf = hmf.MassFunction(), V = 33510.321, z = 4):\n",
    "    \"\"\"\n",
    "    Calculate extreme value probability density function for the dark matter\n",
    "    halo population on a spatial hypersurface (fixed redshift).\n",
    "\n",
    "    Parameters\n",
    "    ----------\n",
    "    mf : mass function, from `hmf` package\n",
    "    V : volume (default: a sphere with radius 20 Mpc)\n",
    "\n",
    "    Returns\n",
    "    -------\n",
    "    phi:\n",
    "\n",
    "    \"\"\"\n",
    "    mf.update(z = z, Mmin = mmin, Mmax = mmax, dlog10m = dlog10m)\n",
    "    dndm = mf.dndlog10m/little_h**4*V\n",
    "    mass = mf.m*little_h\n",
    "    sbf = 0.02856609803835385 + 0.012162496006188494 * (z - 4) # could possibly include some uncertainty here\n",
    "    stellar_mass = mass * sbf * baryon_frac \n",
    "    n_tot = integrate.trapz(dndm, np.log10(mass))\n",
    "    f = dndm[:-1] / n_tot\n",
    "    F = integrate.cumtrapz(dndm, np.log10(mass)) / n_tot\n",
    "    N = n_tot\n",
    "    print(N)\n",
    "    phi_max = N*f*(F**(N-1))\n",
    "    return phi_max, stellar_mass[:-1]\n",
    "\n",
    "phi_evs, M_evs = evs_hypersurface_pdf(V = 1)"
   ]
  },
  {
   "cell_type": "code",
   "execution_count": 276,
   "metadata": {},
   "outputs": [
    {
     "data": {
      "text/plain": [
       "0.21381375999999996"
      ]
     },
     "execution_count": 276,
     "metadata": {},
     "output_type": "execute_result"
    }
   ],
   "source": [
    "# N_trapz\n",
    "# 1890583.292428356/8842196.556612428\n"
   ]
  },
  {
   "cell_type": "code",
   "execution_count": 305,
   "metadata": {},
   "outputs": [
    {
     "data": {
      "image/png": "[encoded data removed]",
      "text/plain": [
       "<Figure size 432x288 with 1 Axes>"
      ]
     },
     "metadata": {
      "needs_background": "light"
     },
     "output_type": "display_data"
    }
   ],
   "source": [
    "plt.plot(np.log10(M_evs), phi_evs/100)\n",
    "import scipy as sp\n",
    "mask = ~np.any(np.isnan(phi_maxs), axis = 0)\n",
    "phi_maxss = phi_maxs[:, mask]\n",
    "N_trials = int(1e4)\n",
    "N_OD = 10000\n",
    "x = np.linspace(1e-8, 1-1e-8, N_trials )\n",
    "for N_OD in [1, 6, 44, 760, 31000]:\n",
    "    evs_u = N_OD*sp.stats.uniform.pdf(x)*pow(sp.stats.uniform.cdf(x), N_OD - 1.)\n",
    "    evs_u = evs_u[mask]\n",
    "\n",
    "    pdf_norm = np.sum(phi_maxss*evs_u, axis = 1)/np.sum(evs_u)\n",
    "\n",
    "    plt.plot(mbins[:-1], pdf_norm )\n",
    "# plt.xlim(10,12.5)"
   ]
  },
  {
   "cell_type": "code",
   "execution_count": 307,
   "metadata": {},
   "outputs": [
    {
     "data": {
      "image/png": "[encoded data removed]",
      "text/plain": [
       "<Figure size 432x288 with 1 Axes>"
      ]
     },
     "metadata": {
      "needs_background": "light"
     },
     "output_type": "display_data"
    }
   ],
   "source": [
    "plt.plot(np.log10(M_evs), phi_evs/100)\n",
    "import scipy as sp\n",
    "mask = ~np.any(np.isnan(phi_maxs), axis = 0)\n",
    "phi_maxss = phi_maxs[:, mask]\n",
    "N_trials = int(1e4)\n",
    "N_OD = 10000\n",
    "x = np.linspace(1e-8, 1-1e-8, N_trials )\n",
    "for N_OD in [2]:\n",
    "    evs_u = N_OD*sp.stats.uniform.pdf(x)*pow(sp.stats.uniform.cdf(x), N_OD - 1.)\n",
    "    evs_u = evs_u[mask]\n",
    "\n",
    "    pdf_norm = np.sum(phi_maxss*evs_u, axis = 1)/np.sum(evs_u)\n",
    "\n",
    "    plt.plot(mbins[:-1], pdf_norm )\n",
    "# plt.xlim(10,12.5)"
   ]
  },
  {
   "cell_type": "code",
   "execution_count": null,
   "metadata": {},
   "outputs": [],
   "source": []
  }
 ],
 "metadata": {
  "kernelspec": {
   "display_name": "base",
   "language": "python",
   "name": "python3"
  },
  "language_info": {
   "codemirror_mode": {
    "name": "ipython",
    "version": 3
   },
   "file_extension": ".py",
   "mimetype": "text/x-python",
   "name": "python",
   "nbconvert_exporter": "python",
   "pygments_lexer": "ipython3",
   "version": "3.8.8"
  }
 },
 "nbformat": 4,
 "nbformat_minor": 2
}
